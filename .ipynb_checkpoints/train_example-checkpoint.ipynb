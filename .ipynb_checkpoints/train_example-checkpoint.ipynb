{
 "cells": [
  {
   "cell_type": "markdown",
   "metadata": {},
   "source": [
    "### Example for training the RNN\n",
    "\n",
    "This is an example for training the RNN.\n",
    "\n",
    "Requirements:\n",
    "- Python 3.6+\n",
    "- NumPy 1.14+ (http://www.numpy.org/)\n",
    "\n",
    "To run this Notebook locally:\n",
    "- Jupyter (https://jupyter.org/)"
   ]
  },
  {
   "cell_type": "markdown",
   "metadata": {},
   "source": [
    "#### Step 1: Import external libraries and the `rnn` package"
   ]
  },
  {
   "cell_type": "code",
   "execution_count": 1,
   "metadata": {},
   "outputs": [],
   "source": [
    "import os\n",
    "from rnn import *"
   ]
  },
  {
   "cell_type": "markdown",
   "metadata": {},
   "source": [
    "#### Step 2: Specify the location on disk of the data directory and the input CSV file"
   ]
  },
  {
   "cell_type": "code",
   "execution_count": 2,
   "metadata": {},
   "outputs": [],
   "source": [
    "DATA_LOCATION = os.getcwd()\n",
    "INPUT_FILE = os.path.join(DATA_LOCATION, 'input_files', 'water_6_97-10_reduced_2_cap_rs.csv')"
   ]
  },
  {
   "cell_type": "markdown",
   "metadata": {},
   "source": [
    "#### Step 3: Read the input CSV file and get the inputs, networks and targets"
   ]
  },
  {
   "cell_type": "code",
   "execution_count": 3,
   "metadata": {},
   "outputs": [],
   "source": [
    "inputs, networks, targets = read_input_file(INPUT_FILE)"
   ]
  },
  {
   "cell_type": "markdown",
   "metadata": {},
   "source": [
    "#### Step 4: Initialize the training RNN, create a `rnn_train` object.\n",
    "\n",
    "Required parameters:\n",
    "- `input_nodes_num`: Integer specifying number of input nodes.\n",
    "- `hidden_nodes_num`: Integer specifying number of hidden nodes.\n",
    "- `output_nodes_num`: Integer specifying number of output nodes.\n",
    "\n",
    "Optional parameters:\n",
    "- `total_networks`: Number of networks to train over. Defaults to 1.\n",
    "- `i_bias`: Boolean variable indicating if input layer consists of a bias node. Defaults value: `True`.\n",
    "- `alpha`: Learning rate for the network, typically a value in the range `(0, 1)`. Default value: `0.25`.\n",
    "- `log`: Boolean value specifying if the execution should be logged to the console. Recommended if running from the command line or in an IDE. Default value: `False`.\n",
    "- `h_bias`: Boolean value specifying if hidden layer should have a bias node. Currently trained models include a hidden layer bias. Default value: `True`.\n",
    "- `random_seed`: Integer value for specifying the random seed (use the same seed for reproducibility). Defaults value: `12314`."
   ]
  },
  {
   "cell_type": "code",
   "execution_count": 4,
   "metadata": {},
   "outputs": [
    {
     "name": "stderr",
     "output_type": "stream",
     "text": [
      "2018-08-21 20:51:50,063 [INFO] Logger enabled and logging\n",
      "2018-08-21 20:51:50,064 [INFO] Training RNN initialized\n"
     ]
    }
   ],
   "source": [
    "training_network = rnn_train(3, 8, 1, total_networks=12, log=True)"
   ]
  },
  {
   "cell_type": "markdown",
   "metadata": {},
   "source": [
    "At this point, a network is initialized and the model is ready to be trained.\n",
    "\n",
    "#### Step 5: Give the network lists of inputs, targets and networks, and the number of epochs to train over\n",
    "\n",
    "Required parameters:\n",
    "- `inputs`: A list of `[day_of_the_year, maximum_temperature, precipitation]` lists. These should be real world observed or predicted values.\n",
    "- `networks`: A list of the same length as `inputs` list with values of the range `[0, 11]` (if using a network for each month), specifying what network each prediction to run on, typically `num_month - 1`. If not specified, all predictions will be made for first network i.e. the network corresponding to January.\n",
    "- `targets`: A list of the same length as `inputs` of the observed values for the day. The target values are required for updating the weights of the model.\n",
    "\n",
    "Optional parameters:\n",
    "- `epochs`: Number of epochs to train the network for. Defaults to `50000`."
   ]
  },
  {
   "cell_type": "code",
   "execution_count": 5,
   "metadata": {
    "scrolled": false
   },
   "outputs": [
    {
     "name": "stderr",
     "output_type": "stream",
     "text": [
      "2018-08-21 20:51:50,445 [INFO] Epoch 0 completed\n",
      "2018-08-21 20:51:53,592 [INFO] RNN trained\n"
     ]
    }
   ],
   "source": [
    "training_network.train(inputs, targets, networks, epochs=10)"
   ]
  },
  {
   "cell_type": "markdown",
   "metadata": {},
   "source": [
    "The network is now trained."
   ]
  },
  {
   "cell_type": "markdown",
   "metadata": {},
   "source": [
    "#### Step 6a: Store the weights for future use\n",
    "\n",
    "Store the network state for future re-use."
   ]
  },
  {
   "cell_type": "code",
   "execution_count": 6,
   "metadata": {},
   "outputs": [
    {
     "name": "stderr",
     "output_type": "stream",
     "text": [
      "2018-08-21 20:51:53,599 [INFO] Weights dumped to pickle file\n"
     ]
    }
   ],
   "source": [
    "training_network.save(os.path.join(DATA_LOCATION, 'daily_rnn_retrained_97-10_test.pickle'))"
   ]
  },
  {
   "cell_type": "markdown",
   "metadata": {},
   "source": [
    "#### Step 6b: Or create a predictor RNN from the trained network state\n",
    "\n",
    "An example of how to run the predictor network is in [predict_example.ipynb](./predict_example.ipynb)."
   ]
  },
  {
   "cell_type": "code",
   "execution_count": 7,
   "metadata": {},
   "outputs": [
    {
     "name": "stderr",
     "output_type": "stream",
     "text": [
      "2018-08-21 20:51:53,603 [INFO] Weights loaded from passed array\n",
      "2018-08-21 20:51:53,604 [INFO] Prediction RNN initialized\n"
     ]
    }
   ],
   "source": [
    "predictor_network = rnn_predict(training_network.network_state())"
   ]
  },
  {
   "cell_type": "markdown",
   "metadata": {},
   "source": [
    "Further documentation about other functions implemented is available within the source files. The shared variables and parameters are documented in `__init__.py`."
   ]
  },
  {
   "cell_type": "code",
   "execution_count": null,
   "metadata": {},
   "outputs": [],
   "source": []
  }
 ],
 "metadata": {
  "kernelspec": {
   "display_name": "Python 3",
   "language": "python",
   "name": "python3"
  },
  "language_info": {
   "codemirror_mode": {
    "name": "ipython",
    "version": 3
   },
   "file_extension": ".py",
   "mimetype": "text/x-python",
   "name": "python",
   "nbconvert_exporter": "python",
   "pygments_lexer": "ipython3",
   "version": "3.6.5"
  }
 },
 "nbformat": 4,
 "nbformat_minor": 2
}
